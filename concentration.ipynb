{
  "nbformat": 4,
  "nbformat_minor": 0,
  "metadata": {
    "colab": {
      "name": "concentration.ipynb",
      "version": "0.3.2",
      "provenance": [],
      "include_colab_link": true
    },
    "kernelspec": {
      "name": "python3",
      "display_name": "Python 3"
    }
  },
  "cells": [
    {
      "cell_type": "markdown",
      "metadata": {
        "id": "view-in-github",
        "colab_type": "text"
      },
      "source": [
        "<a href=\"https://colab.research.google.com/github/tofighi/Public/blob/master/concentration.ipynb\" target=\"_parent\"><img src=\"https://colab.research.google.com/assets/colab-badge.svg\" alt=\"Open In Colab\"/></a>"
      ]
    },
    {
      "cell_type": "code",
      "metadata": {
        "id": "TQz5icdCOIDh",
        "colab_type": "code",
        "colab": {}
      },
      "source": [
        "from matplotlib import pyplot as plt\n",
        "import numpy as np\n",
        "import pandas as pd\n",
        "from scipy import stats\n",
        "from sklearn.base import BaseEstimator\n",
        "from sklearn.model_selection import GridSearchCV\n",
        "from sklearn.linear_model import LinearRegression\n",
        "from sklearn.metrics import mean_squared_error\n",
        "from sklearn.preprocessing import StandardScaler"
      ],
      "execution_count": 0,
      "outputs": []
    },
    {
      "cell_type": "code",
      "metadata": {
        "id": "K3ugQOCfX1Ny",
        "colab_type": "code",
        "outputId": "9ec2909f-25da-493a-8621-27d966e5685a",
        "colab": {
          "base_uri": "https://localhost:8080/",
          "height": 347
        }
      },
      "source": [
        "df = pd.read_csv('https://raw.githubusercontent.com/tofighi/Public/master/data/data.csv')\n",
        "#df = pd.read_csv('https://raw.githubusercontent.com/tofighi/Public/master/data/01.csv')\n",
        "#df = pd.read_csv('https://raw.githubusercontent.com/tofighi/Public/master/data/02.csv')\n",
        "#df = pd.read_csv('https://raw.githubusercontent.com/tofighi/Public/master/data/03.csv')\n",
        "#df = pd.read_csv('https://raw.githubusercontent.com/tofighi/Public/master/data/04.csv')\n",
        "#df = pd.read_csv('https://raw.githubusercontent.com/tofighi/Public/master/data/05.csv')\n",
        "\n",
        "df"
      ],
      "execution_count": 2,
      "outputs": [
        {
          "output_type": "execute_result",
          "data": {
            "text/html": [
              "<div>\n",
              "<style scoped>\n",
              "    .dataframe tbody tr th:only-of-type {\n",
              "        vertical-align: middle;\n",
              "    }\n",
              "\n",
              "    .dataframe tbody tr th {\n",
              "        vertical-align: top;\n",
              "    }\n",
              "\n",
              "    .dataframe thead th {\n",
              "        text-align: right;\n",
              "    }\n",
              "</style>\n",
              "<table border=\"1\" class=\"dataframe\">\n",
              "  <thead>\n",
              "    <tr style=\"text-align: right;\">\n",
              "      <th></th>\n",
              "      <th>concentration</th>\n",
              "      <th>instrumant readings</th>\n",
              "    </tr>\n",
              "  </thead>\n",
              "  <tbody>\n",
              "    <tr>\n",
              "      <th>0</th>\n",
              "      <td>0</td>\n",
              "      <td>1.0</td>\n",
              "    </tr>\n",
              "    <tr>\n",
              "      <th>1</th>\n",
              "      <td>1</td>\n",
              "      <td>3.0</td>\n",
              "    </tr>\n",
              "    <tr>\n",
              "      <th>2</th>\n",
              "      <td>2</td>\n",
              "      <td>5.0</td>\n",
              "    </tr>\n",
              "    <tr>\n",
              "      <th>3</th>\n",
              "      <td>3</td>\n",
              "      <td>7.0</td>\n",
              "    </tr>\n",
              "    <tr>\n",
              "      <th>4</th>\n",
              "      <td>4</td>\n",
              "      <td>9.0</td>\n",
              "    </tr>\n",
              "    <tr>\n",
              "      <th>5</th>\n",
              "      <td>5</td>\n",
              "      <td>11.0</td>\n",
              "    </tr>\n",
              "    <tr>\n",
              "      <th>6</th>\n",
              "      <td>6</td>\n",
              "      <td>12.3</td>\n",
              "    </tr>\n",
              "    <tr>\n",
              "      <th>7</th>\n",
              "      <td>7</td>\n",
              "      <td>13.8</td>\n",
              "    </tr>\n",
              "    <tr>\n",
              "      <th>8</th>\n",
              "      <td>8</td>\n",
              "      <td>15.1</td>\n",
              "    </tr>\n",
              "    <tr>\n",
              "      <th>9</th>\n",
              "      <td>10</td>\n",
              "      <td>18.0</td>\n",
              "    </tr>\n",
              "  </tbody>\n",
              "</table>\n",
              "</div>"
            ],
            "text/plain": [
              "   concentration  instrumant readings\n",
              "0              0                  1.0\n",
              "1              1                  3.0\n",
              "2              2                  5.0\n",
              "3              3                  7.0\n",
              "4              4                  9.0\n",
              "5              5                 11.0\n",
              "6              6                 12.3\n",
              "7              7                 13.8\n",
              "8              8                 15.1\n",
              "9             10                 18.0"
            ]
          },
          "metadata": {
            "tags": []
          },
          "execution_count": 2
        }
      ]
    },
    {
      "cell_type": "code",
      "metadata": {
        "id": "FF_TSx0ib1Tp",
        "colab_type": "code",
        "outputId": "069fbb43-d962-4643-987b-43ce71983c74",
        "colab": {
          "base_uri": "https://localhost:8080/",
          "height": 347
        }
      },
      "source": [
        "df2 = df[['concentration','instrumant readings']]\n",
        "df2"
      ],
      "execution_count": 3,
      "outputs": [
        {
          "output_type": "execute_result",
          "data": {
            "text/html": [
              "<div>\n",
              "<style scoped>\n",
              "    .dataframe tbody tr th:only-of-type {\n",
              "        vertical-align: middle;\n",
              "    }\n",
              "\n",
              "    .dataframe tbody tr th {\n",
              "        vertical-align: top;\n",
              "    }\n",
              "\n",
              "    .dataframe thead th {\n",
              "        text-align: right;\n",
              "    }\n",
              "</style>\n",
              "<table border=\"1\" class=\"dataframe\">\n",
              "  <thead>\n",
              "    <tr style=\"text-align: right;\">\n",
              "      <th></th>\n",
              "      <th>concentration</th>\n",
              "      <th>instrumant readings</th>\n",
              "    </tr>\n",
              "  </thead>\n",
              "  <tbody>\n",
              "    <tr>\n",
              "      <th>0</th>\n",
              "      <td>0</td>\n",
              "      <td>1.0</td>\n",
              "    </tr>\n",
              "    <tr>\n",
              "      <th>1</th>\n",
              "      <td>1</td>\n",
              "      <td>3.0</td>\n",
              "    </tr>\n",
              "    <tr>\n",
              "      <th>2</th>\n",
              "      <td>2</td>\n",
              "      <td>5.0</td>\n",
              "    </tr>\n",
              "    <tr>\n",
              "      <th>3</th>\n",
              "      <td>3</td>\n",
              "      <td>7.0</td>\n",
              "    </tr>\n",
              "    <tr>\n",
              "      <th>4</th>\n",
              "      <td>4</td>\n",
              "      <td>9.0</td>\n",
              "    </tr>\n",
              "    <tr>\n",
              "      <th>5</th>\n",
              "      <td>5</td>\n",
              "      <td>11.0</td>\n",
              "    </tr>\n",
              "    <tr>\n",
              "      <th>6</th>\n",
              "      <td>6</td>\n",
              "      <td>12.3</td>\n",
              "    </tr>\n",
              "    <tr>\n",
              "      <th>7</th>\n",
              "      <td>7</td>\n",
              "      <td>13.8</td>\n",
              "    </tr>\n",
              "    <tr>\n",
              "      <th>8</th>\n",
              "      <td>8</td>\n",
              "      <td>15.1</td>\n",
              "    </tr>\n",
              "    <tr>\n",
              "      <th>9</th>\n",
              "      <td>10</td>\n",
              "      <td>18.0</td>\n",
              "    </tr>\n",
              "  </tbody>\n",
              "</table>\n",
              "</div>"
            ],
            "text/plain": [
              "   concentration  instrumant readings\n",
              "0              0                  1.0\n",
              "1              1                  3.0\n",
              "2              2                  5.0\n",
              "3              3                  7.0\n",
              "4              4                  9.0\n",
              "5              5                 11.0\n",
              "6              6                 12.3\n",
              "7              7                 13.8\n",
              "8              8                 15.1\n",
              "9             10                 18.0"
            ]
          },
          "metadata": {
            "tags": []
          },
          "execution_count": 3
        }
      ]
    },
    {
      "cell_type": "code",
      "metadata": {
        "id": "2alzVv7qOKMo",
        "colab_type": "code",
        "colab": {}
      },
      "source": [
        "def p(x):\n",
        "    return 6*x**5 - 2*x**4 +3 * x**2 + 2 * x + 1"
      ],
      "execution_count": 0,
      "outputs": []
    },
    {
      "cell_type": "code",
      "metadata": {
        "id": "_ZvpNQ0eOVCK",
        "colab_type": "code",
        "colab": {}
      },
      "source": [
        "np.random.seed(145837)\n"
      ],
      "execution_count": 0,
      "outputs": []
    },
    {
      "cell_type": "code",
      "metadata": {
        "id": "zaJovieaOXe4",
        "colab_type": "code",
        "colab": {}
      },
      "source": [
        "N = 12\n",
        "var = 10**-1\n",
        "\n",
        "left = -1\n",
        "right = 3\n",
        "\n",
        "xs = stats.uniform.rvs(left, right, size=N)\n",
        "eps = stats.norm.rvs(0, np.sqrt(var), size=N)\n",
        "ys = p(xs) + eps\n"
      ],
      "execution_count": 0,
      "outputs": []
    },
    {
      "cell_type": "code",
      "metadata": {
        "id": "Jdv-rH4AYEch",
        "colab_type": "code",
        "outputId": "64d179d0-d7b6-4f2f-b0aa-7f6f11aa3159",
        "colab": {
          "base_uri": "https://localhost:8080/",
          "height": 407
        }
      },
      "source": [
        "xs = df2['concentration']\n",
        "print(xs)\n",
        "ys = df2['instrumant readings']\n",
        "print(ys)"
      ],
      "execution_count": 7,
      "outputs": [
        {
          "output_type": "stream",
          "text": [
            "0     0\n",
            "1     1\n",
            "2     2\n",
            "3     3\n",
            "4     4\n",
            "5     5\n",
            "6     6\n",
            "7     7\n",
            "8     8\n",
            "9    10\n",
            "Name: concentration, dtype: int64\n",
            "0     1.0\n",
            "1     3.0\n",
            "2     5.0\n",
            "3     7.0\n",
            "4     9.0\n",
            "5    11.0\n",
            "6    12.3\n",
            "7    13.8\n",
            "8    15.1\n",
            "9    18.0\n",
            "Name: instrumant readings, dtype: float64\n"
          ],
          "name": "stdout"
        }
      ]
    },
    {
      "cell_type": "code",
      "metadata": {
        "id": "bGZkL5fVbXn_",
        "colab_type": "code",
        "outputId": "2bef1ac5-6047-4f2c-b337-867295b1a9c1",
        "colab": {
          "base_uri": "https://localhost:8080/",
          "height": 194
        }
      },
      "source": [
        "scaler = StandardScaler()\n",
        "scaler.fit(df2)\n",
        "df2_norm=scaler.transform(df2)\n",
        "df2_norm"
      ],
      "execution_count": 8,
      "outputs": [
        {
          "output_type": "execute_result",
          "data": {
            "text/plain": [
              "array([[-1.5132889 , -1.62934011],\n",
              "       [-1.18431305, -1.24686591],\n",
              "       [-0.8553372 , -0.8643917 ],\n",
              "       [-0.52636136, -0.4819175 ],\n",
              "       [-0.19738551, -0.09944329],\n",
              "       [ 0.13159034,  0.28303091],\n",
              "       [ 0.46056619,  0.53163914],\n",
              "       [ 0.78954203,  0.8184948 ],\n",
              "       [ 1.11851788,  1.06710303],\n",
              "       [ 1.77646958,  1.62169063]])"
            ]
          },
          "metadata": {
            "tags": []
          },
          "execution_count": 8
        }
      ]
    },
    {
      "cell_type": "code",
      "metadata": {
        "id": "mJdM8RnzcN50",
        "colab_type": "code",
        "colab": {}
      },
      "source": [
        "ys = df2_norm[:,[0]].ravel()\n",
        "#print(xs)\n",
        "xs = df2_norm[:,[1]].ravel()\n",
        "#print(ys)"
      ],
      "execution_count": 0,
      "outputs": []
    },
    {
      "cell_type": "code",
      "metadata": {
        "id": "Pp8KNx1evrl7",
        "colab_type": "code",
        "colab": {
          "base_uri": "https://localhost:8080/",
          "height": 407
        },
        "outputId": "37b90284-9c0b-4807-b2cc-8e84cb54770c"
      },
      "source": [
        "xs = df2['concentration']\n",
        "print(xs)\n",
        "ys = df2['instrumant readings']\n",
        "print(ys)"
      ],
      "execution_count": 10,
      "outputs": [
        {
          "output_type": "stream",
          "text": [
            "0     0\n",
            "1     1\n",
            "2     2\n",
            "3     3\n",
            "4     4\n",
            "5     5\n",
            "6     6\n",
            "7     7\n",
            "8     8\n",
            "9    10\n",
            "Name: concentration, dtype: int64\n",
            "0     1.0\n",
            "1     3.0\n",
            "2     5.0\n",
            "3     7.0\n",
            "4     9.0\n",
            "5    11.0\n",
            "6    12.3\n",
            "7    13.8\n",
            "8    15.1\n",
            "9    18.0\n",
            "Name: instrumant readings, dtype: float64\n"
          ],
          "name": "stdout"
        }
      ]
    },
    {
      "cell_type": "code",
      "metadata": {
        "id": "IFnN1t-COZCy",
        "colab_type": "code",
        "colab": {}
      },
      "source": [
        "class PolynomialRegression(BaseEstimator):\n",
        "    def __init__(self, deg=None):\n",
        "        self.deg = deg\n",
        "    \n",
        "    def fit(self, X, y, deg=None):\n",
        "        self.model = LinearRegression(fit_intercept=False)\n",
        "        self.model.fit(np.vander(X, N=self.deg + 1), y)\n",
        "    \n",
        "    def predict(self, x):\n",
        "        return self.model.predict(np.vander(x, N=self.deg + 1))\n",
        "    \n",
        "    @property\n",
        "    def coef_(self):\n",
        "        return self.model.coef_"
      ],
      "execution_count": 0,
      "outputs": []
    },
    {
      "cell_type": "code",
      "metadata": {
        "id": "aHfFUX0fOiti",
        "colab_type": "code",
        "outputId": "1297810f-c0c9-4910-e7a6-16bad1a5896e",
        "colab": {
          "base_uri": "https://localhost:8080/",
          "height": 34
        }
      },
      "source": [
        "known_degree_model = PolynomialRegression(deg=3)\n",
        "known_degree_model.fit(xs, ys)\n",
        "known_degree_model.coef_"
      ],
      "execution_count": 12,
      "outputs": [
        {
          "output_type": "execute_result",
          "data": {
            "text/plain": [
              "array([ 6.39882993e-04, -6.05237899e-02,  2.24407423e+00,  8.90264637e-01])"
            ]
          },
          "metadata": {
            "tags": []
          },
          "execution_count": 12
        }
      ]
    },
    {
      "cell_type": "code",
      "metadata": {
        "id": "08LAv3GGOnSs",
        "colab_type": "code",
        "colab": {}
      },
      "source": [
        "overfit_model = PolynomialRegression(deg=N - 1)\n",
        "overfit_model.fit(xs, ys)"
      ],
      "execution_count": 0,
      "outputs": []
    },
    {
      "cell_type": "code",
      "metadata": {
        "id": "8ysqA0cfOtdt",
        "colab_type": "code",
        "outputId": "cf64d0d3-82ef-452f-a225-44f32d03bf46",
        "colab": {
          "base_uri": "https://localhost:8080/",
          "height": 268
        }
      },
      "source": [
        "fig = plt.figure()\n",
        "ax = fig.add_subplot(111)\n",
        "\n",
        "plot_xs = np.linspace(left, right, (right - left) * 100)\n",
        "\n",
        "ax.scatter(xs, ys);\n",
        "ax.plot(plot_xs, np.clip(overfit_model.predict(plot_xs), -1, 7), color='k', label='Overfit estimator');\n",
        "#ax.plot(plot_xs, p(plot_xs), color='r', label='True polynomial');\n",
        "ax.legend(loc=2);"
      ],
      "execution_count": 14,
      "outputs": [
        {
          "output_type": "display_data",
          "data": {
            "image/png": "[encoded data removed]",
            "text/plain": [
              "<Figure size 432x288 with 1 Axes>"
            ]
          },
          "metadata": {
            "tags": []
          }
        }
      ]
    },
    {
      "cell_type": "code",
      "metadata": {
        "id": "5dj86fPeOvsL",
        "colab_type": "code",
        "outputId": "84aca970-01ae-4ece-ff55-6a129b5719f9",
        "colab": {
          "base_uri": "https://localhost:8080/",
          "height": 34
        }
      },
      "source": [
        "mean_squared_error(overfit_model.predict(xs), ys)\n"
      ],
      "execution_count": 15,
      "outputs": [
        {
          "output_type": "execute_result",
          "data": {
            "text/plain": [
              "6.26424195183374e-12"
            ]
          },
          "metadata": {
            "tags": []
          },
          "execution_count": 15
        }
      ]
    },
    {
      "cell_type": "code",
      "metadata": {
        "id": "jITLaS5ZOzji",
        "colab_type": "code",
        "outputId": "611d95e7-2b99-4959-f9db-765af0d9ed9e",
        "colab": {
          "base_uri": "https://localhost:8080/",
          "height": 34
        }
      },
      "source": [
        "N_prediction = 10\n",
        "\n",
        "prediction_xs = stats.uniform.rvs(left, right, size=N_prediction)\n",
        "prediction_eps = stats.norm.rvs(0, np.sqrt(var), size=N_prediction)\n",
        "prediction_ys = p(prediction_xs) + prediction_eps\n",
        "\n",
        "mean_squared_error(overfit_model.predict(prediction_xs), prediction_ys)"
      ],
      "execution_count": 16,
      "outputs": [
        {
          "output_type": "execute_result",
          "data": {
            "text/plain": [
              "7.488003482088215"
            ]
          },
          "metadata": {
            "tags": []
          },
          "execution_count": 16
        }
      ]
    },
    {
      "cell_type": "code",
      "metadata": {
        "id": "aubcNbIpO17p",
        "colab_type": "code",
        "colab": {
          "base_uri": "https://localhost:8080/",
          "height": 72
        },
        "outputId": "2a5a4190-2680-49fd-c2ce-20d7766a529c"
      },
      "source": [
        "estimator = PolynomialRegression()\n",
        "degrees = np.arange(1, 25)\n",
        "cv_model = GridSearchCV(estimator,\n",
        "                        cv=3,\n",
        "                        param_grid={'deg': degrees},\n",
        "                        scoring='neg_mean_squared_error')\n",
        "cv_model.fit(xs, ys);\n"
      ],
      "execution_count": 17,
      "outputs": [
        {
          "output_type": "stream",
          "text": [
            "/usr/local/lib/python3.6/dist-packages/sklearn/model_selection/_search.py:813: DeprecationWarning: The default of the `iid` parameter will change from True to False in version 0.22 and will be removed in 0.24. This will change numeric results when test-set sizes are unequal.\n",
            "  DeprecationWarning)\n"
          ],
          "name": "stderr"
        }
      ]
    },
    {
      "cell_type": "code",
      "metadata": {
        "id": "hah-G_POO7Ti",
        "colab_type": "code",
        "outputId": "b39fe735-dca4-4ac8-ba50-235e5f0ebd66",
        "colab": {
          "base_uri": "https://localhost:8080/",
          "height": 34
        }
      },
      "source": [
        "cv_model.best_params_, cv_model.best_estimator_.coef_"
      ],
      "execution_count": 18,
      "outputs": [
        {
          "output_type": "execute_result",
          "data": {
            "text/plain": [
              "({'deg': 2}, array([-0.0508809 ,  2.20725863,  0.91338971]))"
            ]
          },
          "metadata": {
            "tags": []
          },
          "execution_count": 18
        }
      ]
    },
    {
      "cell_type": "code",
      "metadata": {
        "id": "I02Z6lJLPw4B",
        "colab_type": "code",
        "outputId": "568e0922-1049-43e3-ec3e-a49899b09733",
        "colab": {
          "base_uri": "https://localhost:8080/",
          "height": 268
        }
      },
      "source": [
        "fig = plt.figure()\n",
        "ax = fig.add_subplot(111)\n",
        "\n",
        "plt.scatter(xs, ys);\n",
        "ax.plot(plot_xs, np.clip(overfit_model.predict(plot_xs), -1, 7), color='k', label='Overfit estimator');\n",
        "plt.plot(plot_xs, cv_model.predict(plot_xs), color='b', label='Cross-validated estimator');\n",
        "#ax.plot(plot_xs, p(plot_xs), color='r', label='True polynomial');\n",
        "ax.legend(loc=2);"
      ],
      "execution_count": 19,
      "outputs": [
        {
          "output_type": "display_data",
          "data": {
            "image/png": "[encoded data removed]",
            "text/plain": [
              "<Figure size 432x288 with 1 Axes>"
            ]
          },
          "metadata": {
            "tags": []
          }
        }
      ]
    },
    {
      "cell_type": "code",
      "metadata": {
        "id": "i0bUDYSPP9Ad",
        "colab_type": "code",
        "outputId": "859c1aca-7e19-4ff1-b286-ff68f4bef109",
        "colab": {
          "base_uri": "https://localhost:8080/",
          "height": 34
        }
      },
      "source": [
        "mean_squared_error(cv_model.predict(xs), ys)\n"
      ],
      "execution_count": 20,
      "outputs": [
        {
          "output_type": "execute_result",
          "data": {
            "text/plain": [
              "0.020521494009866074"
            ]
          },
          "metadata": {
            "tags": []
          },
          "execution_count": 20
        }
      ]
    },
    {
      "cell_type": "code",
      "metadata": {
        "id": "-zft6vBGQAJJ",
        "colab_type": "code",
        "outputId": "8fed9877-1241-4c67-9ce7-4170e3372319",
        "colab": {
          "base_uri": "https://localhost:8080/",
          "height": 34
        }
      },
      "source": [
        "mean_squared_error(cv_model.predict(prediction_xs), prediction_ys)\n"
      ],
      "execution_count": 21,
      "outputs": [
        {
          "output_type": "execute_result",
          "data": {
            "text/plain": [
              "7.3368295618241275"
            ]
          },
          "metadata": {
            "tags": []
          },
          "execution_count": 21
        }
      ]
    },
    {
      "cell_type": "code",
      "metadata": {
        "id": "gey7n4mdQEPf",
        "colab_type": "code",
        "outputId": "dcf4f1a6-57f3-4638-84f5-0fa3479c7ac5",
        "colab": {
          "base_uri": "https://localhost:8080/",
          "height": 354
        }
      },
      "source": [
        "fig = plt.figure(figsize=(10,5))\n",
        "ax = fig.add_subplot(111)\n",
        "\n",
        "cv_model.cv_results_\n",
        "\n",
        "#scores = np.array([mean_test_score in cv_model.cv_results_])\n",
        "scores= cv_model.cv_results_['mean_test_score']\n",
        "\n",
        "ax.plot(degrees, -scores)\n",
        "plt.xticks(np.arange(1, np.max(degrees)+1, step=1))\n",
        "plt.grid(color='g', linestyle='-', linewidth=.5)\n",
        "ax.set_yscale('log')\n",
        "ax.set_ylabel('MSE (log scaled)')\n",
        "ax.set_xlabel('Polynomial Degree')"
      ],
      "execution_count": 22,
      "outputs": [
        {
          "output_type": "execute_result",
          "data": {
            "text/plain": [
              "Text(0.5, 0, 'Polynomial Degree')"
            ]
          },
          "metadata": {
            "tags": []
          },
          "execution_count": 22
        },
        {
          "output_type": "display_data",
          "data": {
            "image/png": "[encoded data removed]",
            "text/plain": [
              "<Figure size 720x360 with 1 Axes>"
            ]
          },
          "metadata": {
            "tags": []
          }
        }
      ]
    },
    {
      "cell_type": "code",
      "metadata": {
        "id": "ZYeD0mmIUSBS",
        "colab_type": "code",
        "colab": {}
      },
      "source": [
        ""
      ],
      "execution_count": 0,
      "outputs": []
    }
  ]
}