{
  "nbformat": 4,
  "nbformat_minor": 0,
  "metadata": {
    "colab": {
      "name": "concentration.ipynb",
      "version": "0.3.2",
      "provenance": [],
      "include_colab_link": true
    },
    "kernelspec": {
      "name": "python3",
      "display_name": "Python 3"
    }
  },
  "cells": [
    {
      "cell_type": "markdown",
      "metadata": {
        "id": "view-in-github",
        "colab_type": "text"
      },
      "source": [
        "<a href=\"https://colab.research.google.com/github/tofighi/Public/blob/master/concentration.ipynb\" target=\"_parent\"><img src=\"https://colab.research.google.com/assets/colab-badge.svg\" alt=\"Open In Colab\"/></a>"
      ]
    },
    {
      "cell_type": "code",
      "metadata": {
        "id": "TQz5icdCOIDh",
        "colab_type": "code",
        "colab": {}
      },
      "source": [
        "from matplotlib import pyplot as plt\n",
        "import numpy as np\n",
        "import pandas as pd\n",
        "from scipy import stats\n",
        "from sklearn.base import BaseEstimator\n",
        "from sklearn.model_selection import GridSearchCV\n",
        "from sklearn.linear_model import LinearRegression\n",
        "from sklearn.metrics import mean_squared_error\n",
        "from sklearn.preprocessing import StandardScaler"
      ],
      "execution_count": 0,
      "outputs": []
    },
    {
      "cell_type": "code",
      "metadata": {
        "id": "K3ugQOCfX1Ny",
        "colab_type": "code",
        "outputId": "58565fc2-c547-459b-96d9-bfc21b1de23c",
        "colab": {
          "base_uri": "https://localhost:8080/",
          "height": 317
        }
      },
      "source": [
        "df = pd.read_csv('https://raw.githubusercontent.com/tofighi/Public/master/data/data.csv')\n",
        "#df = pd.read_csv('https://raw.githubusercontent.com/tofighi/Public/master/data/01.csv')\n",
        "#df = pd.read_csv('https://raw.githubusercontent.com/tofighi/Public/master/data/02.csv')\n",
        "#df = pd.read_csv('https://raw.githubusercontent.com/tofighi/Public/master/data/03.csv')\n",
        "#df = pd.read_csv('https://raw.githubusercontent.com/tofighi/Public/master/data/04.csv')\n",
        "#df = pd.read_csv('https://raw.githubusercontent.com/tofighi/Public/master/data/05.csv')\n",
        "\n",
        "df"
      ],
      "execution_count": 2,
      "outputs": [
        {
          "output_type": "execute_result",
          "data": {
            "text/html": [
              "<div>\n",
              "<style scoped>\n",
              "    .dataframe tbody tr th:only-of-type {\n",
              "        vertical-align: middle;\n",
              "    }\n",
              "\n",
              "    .dataframe tbody tr th {\n",
              "        vertical-align: top;\n",
              "    }\n",
              "\n",
              "    .dataframe thead th {\n",
              "        text-align: right;\n",
              "    }\n",
              "</style>\n",
              "<table border=\"1\" class=\"dataframe\">\n",
              "  <thead>\n",
              "    <tr style=\"text-align: right;\">\n",
              "      <th></th>\n",
              "      <th>concentration</th>\n",
              "      <th>Duplicates</th>\n",
              "      <th>Duplicates.1</th>\n",
              "      <th>instrumant readings</th>\n",
              "      <th>Normalise</th>\n",
              "    </tr>\n",
              "  </thead>\n",
              "  <tbody>\n",
              "    <tr>\n",
              "      <th>0</th>\n",
              "      <td>0</td>\n",
              "      <td>0.1156</td>\n",
              "      <td>0.1052</td>\n",
              "      <td>0.11040</td>\n",
              "      <td>0.00000</td>\n",
              "    </tr>\n",
              "    <tr>\n",
              "      <th>1</th>\n",
              "      <td>25</td>\n",
              "      <td>0.1504</td>\n",
              "      <td>0.1488</td>\n",
              "      <td>0.14960</td>\n",
              "      <td>0.03920</td>\n",
              "    </tr>\n",
              "    <tr>\n",
              "      <th>2</th>\n",
              "      <td>125</td>\n",
              "      <td>0.3443</td>\n",
              "      <td>0.3277</td>\n",
              "      <td>0.33600</td>\n",
              "      <td>0.22560</td>\n",
              "    </tr>\n",
              "    <tr>\n",
              "      <th>3</th>\n",
              "      <td>250</td>\n",
              "      <td>0.5418</td>\n",
              "      <td>0.5268</td>\n",
              "      <td>0.53430</td>\n",
              "      <td>0.42390</td>\n",
              "    </tr>\n",
              "    <tr>\n",
              "      <th>4</th>\n",
              "      <td>500</td>\n",
              "      <td>0.8895</td>\n",
              "      <td>0.8771</td>\n",
              "      <td>0.88330</td>\n",
              "      <td>0.77290</td>\n",
              "    </tr>\n",
              "    <tr>\n",
              "      <th>5</th>\n",
              "      <td>750</td>\n",
              "      <td>1.1416</td>\n",
              "      <td>1.1751</td>\n",
              "      <td>1.15835</td>\n",
              "      <td>1.04795</td>\n",
              "    </tr>\n",
              "    <tr>\n",
              "      <th>6</th>\n",
              "      <td>1000</td>\n",
              "      <td>1.4563</td>\n",
              "      <td>1.4242</td>\n",
              "      <td>1.44025</td>\n",
              "      <td>1.32985</td>\n",
              "    </tr>\n",
              "    <tr>\n",
              "      <th>7</th>\n",
              "      <td>1500</td>\n",
              "      <td>2.0348</td>\n",
              "      <td>2.0093</td>\n",
              "      <td>2.02205</td>\n",
              "      <td>1.91165</td>\n",
              "    </tr>\n",
              "    <tr>\n",
              "      <th>8</th>\n",
              "      <td>2000</td>\n",
              "      <td>2.5256</td>\n",
              "      <td>2.4531</td>\n",
              "      <td>2.48935</td>\n",
              "      <td>2.37895</td>\n",
              "    </tr>\n",
              "  </tbody>\n",
              "</table>\n",
              "</div>"
            ],
            "text/plain": [
              "   concentration  Duplicates  Duplicates.1  instrumant readings  Normalise\n",
              "0              0      0.1156        0.1052              0.11040    0.00000\n",
              "1             25      0.1504        0.1488              0.14960    0.03920\n",
              "2            125      0.3443        0.3277              0.33600    0.22560\n",
              "3            250      0.5418        0.5268              0.53430    0.42390\n",
              "4            500      0.8895        0.8771              0.88330    0.77290\n",
              "5            750      1.1416        1.1751              1.15835    1.04795\n",
              "6           1000      1.4563        1.4242              1.44025    1.32985\n",
              "7           1500      2.0348        2.0093              2.02205    1.91165\n",
              "8           2000      2.5256        2.4531              2.48935    2.37895"
            ]
          },
          "metadata": {
            "tags": []
          },
          "execution_count": 2
        }
      ]
    },
    {
      "cell_type": "code",
      "metadata": {
        "id": "FF_TSx0ib1Tp",
        "colab_type": "code",
        "outputId": "442ae03d-66a1-4e59-8c8f-9a0220f75fe8",
        "colab": {
          "base_uri": "https://localhost:8080/",
          "height": 317
        }
      },
      "source": [
        "df2 = df[['concentration','instrumant readings']]\n",
        "df2"
      ],
      "execution_count": 3,
      "outputs": [
        {
          "output_type": "execute_result",
          "data": {
            "text/html": [
              "<div>\n",
              "<style scoped>\n",
              "    .dataframe tbody tr th:only-of-type {\n",
              "        vertical-align: middle;\n",
              "    }\n",
              "\n",
              "    .dataframe tbody tr th {\n",
              "        vertical-align: top;\n",
              "    }\n",
              "\n",
              "    .dataframe thead th {\n",
              "        text-align: right;\n",
              "    }\n",
              "</style>\n",
              "<table border=\"1\" class=\"dataframe\">\n",
              "  <thead>\n",
              "    <tr style=\"text-align: right;\">\n",
              "      <th></th>\n",
              "      <th>concentration</th>\n",
              "      <th>instrumant readings</th>\n",
              "    </tr>\n",
              "  </thead>\n",
              "  <tbody>\n",
              "    <tr>\n",
              "      <th>0</th>\n",
              "      <td>0</td>\n",
              "      <td>0.11040</td>\n",
              "    </tr>\n",
              "    <tr>\n",
              "      <th>1</th>\n",
              "      <td>25</td>\n",
              "      <td>0.14960</td>\n",
              "    </tr>\n",
              "    <tr>\n",
              "      <th>2</th>\n",
              "      <td>125</td>\n",
              "      <td>0.33600</td>\n",
              "    </tr>\n",
              "    <tr>\n",
              "      <th>3</th>\n",
              "      <td>250</td>\n",
              "      <td>0.53430</td>\n",
              "    </tr>\n",
              "    <tr>\n",
              "      <th>4</th>\n",
              "      <td>500</td>\n",
              "      <td>0.88330</td>\n",
              "    </tr>\n",
              "    <tr>\n",
              "      <th>5</th>\n",
              "      <td>750</td>\n",
              "      <td>1.15835</td>\n",
              "    </tr>\n",
              "    <tr>\n",
              "      <th>6</th>\n",
              "      <td>1000</td>\n",
              "      <td>1.44025</td>\n",
              "    </tr>\n",
              "    <tr>\n",
              "      <th>7</th>\n",
              "      <td>1500</td>\n",
              "      <td>2.02205</td>\n",
              "    </tr>\n",
              "    <tr>\n",
              "      <th>8</th>\n",
              "      <td>2000</td>\n",
              "      <td>2.48935</td>\n",
              "    </tr>\n",
              "  </tbody>\n",
              "</table>\n",
              "</div>"
            ],
            "text/plain": [
              "   concentration  instrumant readings\n",
              "0              0              0.11040\n",
              "1             25              0.14960\n",
              "2            125              0.33600\n",
              "3            250              0.53430\n",
              "4            500              0.88330\n",
              "5            750              1.15835\n",
              "6           1000              1.44025\n",
              "7           1500              2.02205\n",
              "8           2000              2.48935"
            ]
          },
          "metadata": {
            "tags": []
          },
          "execution_count": 3
        }
      ]
    },
    {
      "cell_type": "code",
      "metadata": {
        "id": "2alzVv7qOKMo",
        "colab_type": "code",
        "colab": {}
      },
      "source": [
        "def p(x):\n",
        "    return 6*x**5 - 2*x**4 +3 * x**2 + 2 * x + 1"
      ],
      "execution_count": 0,
      "outputs": []
    },
    {
      "cell_type": "code",
      "metadata": {
        "id": "_ZvpNQ0eOVCK",
        "colab_type": "code",
        "colab": {}
      },
      "source": [
        "np.random.seed(145837)\n"
      ],
      "execution_count": 0,
      "outputs": []
    },
    {
      "cell_type": "code",
      "metadata": {
        "id": "zaJovieaOXe4",
        "colab_type": "code",
        "colab": {}
      },
      "source": [
        "N = 12\n",
        "var = 10**-1\n",
        "\n",
        "left = -1\n",
        "right = 3\n",
        "\n",
        "xs = stats.uniform.rvs(left, right, size=N)\n",
        "eps = stats.norm.rvs(0, np.sqrt(var), size=N)\n",
        "ys = p(xs) + eps\n"
      ],
      "execution_count": 0,
      "outputs": []
    },
    {
      "cell_type": "code",
      "metadata": {
        "id": "Jdv-rH4AYEch",
        "colab_type": "code",
        "outputId": "df4d4248-1df9-4b11-d451-ae8bb062d1b2",
        "colab": {
          "base_uri": "https://localhost:8080/",
          "height": 372
        }
      },
      "source": [
        "xs = df2['concentration']\n",
        "print(xs)\n",
        "ys = df2['instrumant readings']\n",
        "print(ys)"
      ],
      "execution_count": 7,
      "outputs": [
        {
          "output_type": "stream",
          "text": [
            "0       0\n",
            "1      25\n",
            "2     125\n",
            "3     250\n",
            "4     500\n",
            "5     750\n",
            "6    1000\n",
            "7    1500\n",
            "8    2000\n",
            "Name: concentration, dtype: int64\n",
            "0    0.11040\n",
            "1    0.14960\n",
            "2    0.33600\n",
            "3    0.53430\n",
            "4    0.88330\n",
            "5    1.15835\n",
            "6    1.44025\n",
            "7    2.02205\n",
            "8    2.48935\n",
            "Name: instrumant readings, dtype: float64\n"
          ],
          "name": "stdout"
        }
      ]
    },
    {
      "cell_type": "code",
      "metadata": {
        "id": "bGZkL5fVbXn_",
        "colab_type": "code",
        "outputId": "0f0e8287-3539-46d3-f319-7a52159296b2",
        "colab": {
          "base_uri": "https://localhost:8080/",
          "height": 176
        }
      },
      "source": [
        "scaler = StandardScaler()\n",
        "scaler.fit(df2)\n",
        "df2_norm=scaler.transform(df2)\n",
        "df2_norm"
      ],
      "execution_count": 8,
      "outputs": [
        {
          "output_type": "execute_result",
          "data": {
            "text/plain": [
              "array([[-1.03293895, -1.13850406],\n",
              "       [-0.9951485 , -1.08909887],\n",
              "       [-0.8439867 , -0.85417213],\n",
              "       [-0.65503445, -0.60424738],\n",
              "       [-0.27712996, -0.1643899 ],\n",
              "       [ 0.10077453,  0.18226566],\n",
              "       [ 0.47867902,  0.53755461],\n",
              "       [ 1.23448801,  1.27081842],\n",
              "       [ 1.990297  ,  1.85977364]])"
            ]
          },
          "metadata": {
            "tags": []
          },
          "execution_count": 8
        }
      ]
    },
    {
      "cell_type": "code",
      "metadata": {
        "id": "mJdM8RnzcN50",
        "colab_type": "code",
        "colab": {}
      },
      "source": [
        "ys = df2_norm[:,[0]].ravel()\n",
        "#print(xs)\n",
        "xs = df2_norm[:,[1]].ravel()\n",
        "#print(ys)"
      ],
      "execution_count": 0,
      "outputs": []
    },
    {
      "cell_type": "code",
      "metadata": {
        "id": "Pp8KNx1evrl7",
        "colab_type": "code",
        "colab": {
          "base_uri": "https://localhost:8080/",
          "height": 372
        },
        "outputId": "39db9dde-755f-47d2-c7c8-a12f3228a2e8"
      },
      "source": [
        "xs = df2['concentration']\n",
        "print(xs)\n",
        "ys = df2['instrumant readings']\n",
        "print(ys)"
      ],
      "execution_count": 10,
      "outputs": [
        {
          "output_type": "stream",
          "text": [
            "0       0\n",
            "1      25\n",
            "2     125\n",
            "3     250\n",
            "4     500\n",
            "5     750\n",
            "6    1000\n",
            "7    1500\n",
            "8    2000\n",
            "Name: concentration, dtype: int64\n",
            "0    0.11040\n",
            "1    0.14960\n",
            "2    0.33600\n",
            "3    0.53430\n",
            "4    0.88330\n",
            "5    1.15835\n",
            "6    1.44025\n",
            "7    2.02205\n",
            "8    2.48935\n",
            "Name: instrumant readings, dtype: float64\n"
          ],
          "name": "stdout"
        }
      ]
    },
    {
      "cell_type": "code",
      "metadata": {
        "id": "IFnN1t-COZCy",
        "colab_type": "code",
        "colab": {}
      },
      "source": [
        "class PolynomialRegression(BaseEstimator):\n",
        "    def __init__(self, deg=None):\n",
        "        self.deg = deg\n",
        "    \n",
        "    def fit(self, X, y, deg=None):\n",
        "        self.model = LinearRegression(fit_intercept=False)\n",
        "        self.model.fit(np.vander(X, N=self.deg + 1), y)\n",
        "    \n",
        "    def predict(self, x):\n",
        "        return self.model.predict(np.vander(x, N=self.deg + 1))\n",
        "    \n",
        "    @property\n",
        "    def coef_(self):\n",
        "        return self.model.coef_"
      ],
      "execution_count": 0,
      "outputs": []
    },
    {
      "cell_type": "code",
      "metadata": {
        "id": "aHfFUX0fOiti",
        "colab_type": "code",
        "outputId": "7ecda440-42d2-4ae3-f5ab-b879b27d60f8",
        "colab": {
          "base_uri": "https://localhost:8080/",
          "height": 34
        }
      },
      "source": [
        "known_degree_model = PolynomialRegression(deg=3)\n",
        "known_degree_model.fit(xs, ys)\n",
        "known_degree_model.coef_"
      ],
      "execution_count": 12,
      "outputs": [
        {
          "output_type": "execute_result",
          "data": {
            "text/plain": [
              "array([ 7.86795942e-11, -3.94533476e-07,  1.66224251e-03,  1.21636899e-01])"
            ]
          },
          "metadata": {
            "tags": []
          },
          "execution_count": 12
        }
      ]
    },
    {
      "cell_type": "code",
      "metadata": {
        "id": "08LAv3GGOnSs",
        "colab_type": "code",
        "colab": {}
      },
      "source": [
        "overfit_model = PolynomialRegression(deg=N - 1)\n",
        "overfit_model.fit(xs, ys)"
      ],
      "execution_count": 0,
      "outputs": []
    },
    {
      "cell_type": "code",
      "metadata": {
        "id": "8ysqA0cfOtdt",
        "colab_type": "code",
        "outputId": "55fff0e4-d06a-482a-a1a8-693b6d974e1b",
        "colab": {
          "base_uri": "https://localhost:8080/",
          "height": 268
        }
      },
      "source": [
        "fig = plt.figure()\n",
        "ax = fig.add_subplot(111)\n",
        "\n",
        "plot_xs = np.linspace(left, right, (right - left) * 100)\n",
        "\n",
        "ax.scatter(xs, ys);\n",
        "ax.plot(plot_xs, np.clip(overfit_model.predict(plot_xs), -1, 7), color='k', label='Overfit estimator');\n",
        "#ax.plot(plot_xs, p(plot_xs), color='r', label='True polynomial');\n",
        "ax.legend(loc=2);"
      ],
      "execution_count": 14,
      "outputs": [
        {
          "output_type": "display_data",
          "data": {
            "image/png": "[encoded data removed]",
            "text/plain": [
              "<Figure size 432x288 with 1 Axes>"
            ]
          },
          "metadata": {
            "tags": []
          }
        }
      ]
    },
    {
      "cell_type": "code",
      "metadata": {
        "id": "5dj86fPeOvsL",
        "colab_type": "code",
        "outputId": "752b5e37-c2a0-4a1a-8228-a3ab64a3470b",
        "colab": {
          "base_uri": "https://localhost:8080/",
          "height": 34
        }
      },
      "source": [
        "mean_squared_error(overfit_model.predict(xs), ys)\n"
      ],
      "execution_count": 15,
      "outputs": [
        {
          "output_type": "execute_result",
          "data": {
            "text/plain": [
              "0.0013542399754743065"
            ]
          },
          "metadata": {
            "tags": []
          },
          "execution_count": 15
        }
      ]
    },
    {
      "cell_type": "code",
      "metadata": {
        "id": "jITLaS5ZOzji",
        "colab_type": "code",
        "outputId": "6af4676e-8208-42bc-b7b2-3c61a0c9ce6f",
        "colab": {
          "base_uri": "https://localhost:8080/",
          "height": 34
        }
      },
      "source": [
        "N_prediction = 10\n",
        "\n",
        "prediction_xs = stats.uniform.rvs(left, right, size=N_prediction)\n",
        "prediction_eps = stats.norm.rvs(0, np.sqrt(var), size=N_prediction)\n",
        "prediction_ys = p(prediction_xs) + prediction_eps\n",
        "\n",
        "mean_squared_error(overfit_model.predict(prediction_xs), prediction_ys)"
      ],
      "execution_count": 16,
      "outputs": [
        {
          "output_type": "execute_result",
          "data": {
            "text/plain": [
              "19.30151937462"
            ]
          },
          "metadata": {
            "tags": []
          },
          "execution_count": 16
        }
      ]
    },
    {
      "cell_type": "code",
      "metadata": {
        "id": "aubcNbIpO17p",
        "colab_type": "code",
        "colab": {}
      },
      "source": [
        "estimator = PolynomialRegression()\n",
        "degrees = np.arange(1, 25)\n",
        "cv_model = GridSearchCV(estimator,\n",
        "                        cv=3,\n",
        "                        param_grid={'deg': degrees},\n",
        "                        scoring='neg_mean_squared_error')\n",
        "cv_model.fit(xs, ys);\n"
      ],
      "execution_count": 0,
      "outputs": []
    },
    {
      "cell_type": "code",
      "metadata": {
        "id": "hah-G_POO7Ti",
        "colab_type": "code",
        "outputId": "a1ba82da-65fa-4a68-f493-ef1577a3f6e4",
        "colab": {
          "base_uri": "https://localhost:8080/",
          "height": 34
        }
      },
      "source": [
        "cv_model.best_params_, cv_model.best_estimator_.coef_"
      ],
      "execution_count": 18,
      "outputs": [
        {
          "output_type": "execute_result",
          "data": {
            "text/plain": [
              "({'deg': 1}, array([0.00119512, 0.19706564]))"
            ]
          },
          "metadata": {
            "tags": []
          },
          "execution_count": 18
        }
      ]
    },
    {
      "cell_type": "code",
      "metadata": {
        "id": "I02Z6lJLPw4B",
        "colab_type": "code",
        "outputId": "85ef74b9-5b60-4380-9d0c-122284654efb",
        "colab": {
          "base_uri": "https://localhost:8080/",
          "height": 268
        }
      },
      "source": [
        "fig = plt.figure()\n",
        "ax = fig.add_subplot(111)\n",
        "\n",
        "plt.scatter(xs, ys);\n",
        "ax.plot(plot_xs, np.clip(overfit_model.predict(plot_xs), -1, 7), color='k', label='Overfit estimator');\n",
        "plt.plot(plot_xs, cv_model.predict(plot_xs), color='b', label='Cross-validated estimator');\n",
        "#ax.plot(plot_xs, p(plot_xs), color='r', label='True polynomial');\n",
        "ax.legend(loc=2);"
      ],
      "execution_count": 19,
      "outputs": [
        {
          "output_type": "display_data",
          "data": {
            "image/png": "[encoded data removed]",
            "text/plain": [
              "<Figure size 432x288 with 1 Axes>"
            ]
          },
          "metadata": {
            "tags": []
          }
        }
      ]
    },
    {
      "cell_type": "code",
      "metadata": {
        "id": "i0bUDYSPP9Ad",
        "colab_type": "code",
        "outputId": "e2277678-c1e1-480d-dd79-2beeb09a66cb",
        "colab": {
          "base_uri": "https://localhost:8080/",
          "height": 34
        }
      },
      "source": [
        "mean_squared_error(cv_model.predict(xs), ys)\n"
      ],
      "execution_count": 20,
      "outputs": [
        {
          "output_type": "execute_result",
          "data": {
            "text/plain": [
              "0.004456779649714266"
            ]
          },
          "metadata": {
            "tags": []
          },
          "execution_count": 20
        }
      ]
    },
    {
      "cell_type": "code",
      "metadata": {
        "id": "-zft6vBGQAJJ",
        "colab_type": "code",
        "outputId": "08c7ca6b-4987-470b-fc0a-2acafdeb1c79",
        "colab": {
          "base_uri": "https://localhost:8080/",
          "height": 34
        }
      },
      "source": [
        "mean_squared_error(cv_model.predict(prediction_xs), prediction_ys)\n"
      ],
      "execution_count": 21,
      "outputs": [
        {
          "output_type": "execute_result",
          "data": {
            "text/plain": [
              "18.015547675186586"
            ]
          },
          "metadata": {
            "tags": []
          },
          "execution_count": 21
        }
      ]
    },
    {
      "cell_type": "code",
      "metadata": {
        "id": "gey7n4mdQEPf",
        "colab_type": "code",
        "outputId": "d021a77d-8e5f-44ee-da58-d264a019a956",
        "colab": {
          "base_uri": "https://localhost:8080/",
          "height": 354
        }
      },
      "source": [
        "fig = plt.figure(figsize=(10,5))\n",
        "ax = fig.add_subplot(111)\n",
        "\n",
        "cv_model.cv_results_\n",
        "\n",
        "#scores = np.array([mean_test_score in cv_model.cv_results_])\n",
        "scores= cv_model.cv_results_['mean_test_score']\n",
        "\n",
        "ax.plot(degrees, -scores)\n",
        "plt.xticks(np.arange(1, np.max(degrees)+1, step=1))\n",
        "plt.grid(color='g', linestyle='-', linewidth=.5)\n",
        "ax.set_yscale('log')\n",
        "ax.set_ylabel('MSE (log scaled)')\n",
        "ax.set_xlabel('Polynomial Degree')"
      ],
      "execution_count": 22,
      "outputs": [
        {
          "output_type": "execute_result",
          "data": {
            "text/plain": [
              "Text(0.5, 0, 'Polynomial Degree')"
            ]
          },
          "metadata": {
            "tags": []
          },
          "execution_count": 22
        },
        {
          "output_type": "display_data",
          "data": {
            "image/png": "[encoded data removed]",
            "text/plain": [
              "<Figure size 720x360 with 1 Axes>"
            ]
          },
          "metadata": {
            "tags": []
          }
        }
      ]
    },
    {
      "cell_type": "code",
      "metadata": {
        "id": "ZYeD0mmIUSBS",
        "colab_type": "code",
        "colab": {}
      },
      "source": [
        ""
      ],
      "execution_count": 0,
      "outputs": []
    }
  ]
}